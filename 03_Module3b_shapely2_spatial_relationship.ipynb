{
 "cells": [
  {
   "cell_type": "markdown",
   "metadata": {
    "colab_type": "text",
    "id": "view-in-github"
   },
   "source": [
    "<a href=\"https://colab.research.google.com/github/mehak-sachdeva/GIS-322-Module3/blob/main/03_Module3b_shapely2_spatial_relationship.ipynb\" target=\"_parent\"><img src=\"https://colab.research.google.com/assets/colab-badge.svg\" alt=\"Open In Colab\"/></a>"
   ]
  },
  {
   "cell_type": "markdown",
   "metadata": {
    "colab_type": "text",
    "id": "lMFfQ7mR_nLe"
   },
   "source": [
    "## Spatial relationship\n",
    "\n",
    "This lecture will introduce how to use shapely to identify spatial relationships between geometries"
   ]
  },
  {
   "cell_type": "markdown",
   "metadata": {
    "colab_type": "text",
    "id": "YlXq_m8s_0Rq"
   },
   "source": [
    "### Binary Predicates\n",
    "\n",
    "Standard binary predicates are implemented as methods. These predicates evaluate topological, set-theoretic relationships. In a few cases the results may not be what one might expect starting from different assumptions. All take another geometric object as argument and return True or False.\n",
    "\n"
   ]
  },
  {
   "cell_type": "markdown",
   "metadata": {
    "colab_type": "text",
    "id": "FSoXOP32bHom"
   },
   "source": [
    "\n",
    "### 1. Equivalent\n",
    "\n",
    "**object.__ eq__(other)**:\n",
    "\n",
    "Returns True if the two objects are of the same geometric type, and the coordinates of the two objects match precisely.\n",
    "\n",
    "**object.equals(other)**:\n",
    "\n",
    "Returns True if the set-theoretic boundary, interior, and exterior of the object coincide with those of the other.\n",
    "\n",
    "The coordinates passed to the object constructors are of these sets, and determine them, but are not the entirety of the sets. This is a potential “gotcha” for new users. Equivalent lines, for example, can be constructed differently.\n",
    "\n",
    "**object.almost_equals(other[, decimal=6])**\n",
    "\n",
    "Returns True if the object is approximately equal to the other at all points to specified decimal place precision.\n"
   ]
  },
  {
   "cell_type": "code",
   "execution_count": 24,
   "metadata": {
    "colab": {
     "base_uri": "https://localhost:8080/",
     "height": 68
    },
    "colab_type": "code",
    "id": "uuPe-zOg_uvV",
    "outputId": "e7a59e0d-da5d-4762-ef14-e9cfa2f6affd"
   },
   "outputs": [
    {
     "name": "stdout",
     "output_type": "stream",
     "text": [
      "a equals to b?  True\n",
      "b equals to c?  True\n",
      "a==b?  False\n"
     ]
    }
   ],
   "source": [
    "from shapely.geometry import LineString\n",
    "\n",
    "#The coordinates passed to the object constructors are of these sets, and determine them, \n",
    "#but are not the entirety of the sets. Equivalent lines, for example, can be constructed differently.\n",
    "\n",
    "a = LineString([(0, 0), (1, 1)])\n",
    "\n",
    "b = LineString([(0, 0), (0.5, 0.5), (1, 1)])\n",
    "\n",
    "c = LineString([(0, 0), (0, 0), (1, 1)])\n",
    "\n",
    "# since a and b and c are all on the same line, so they are equivalent\n",
    "\n",
    "print(\"a equals to b? \", a.equals(b))  # will return True\n",
    "\n",
    "print(\"b equals to c? \", a.equals(b))  # will return True\n",
    "      \n",
    "print(\"a==b? \", a == b ) # this is to check whether they are the same object, not if they refer to the same line\n",
    "\n",
    "\n"
   ]
  },
  {
   "cell_type": "markdown",
   "metadata": {
    "colab_type": "text",
    "id": "oLgeyIkIbwWM"
   },
   "source": [
    "### 2. Contains and Within\n",
    "\n",
    "**object.contains(other)**\n",
    "\n",
    "Returns True if no points of other lie in the exterior of the object and at least one point of the interior of other lies in the interior of object.\n",
    "\n",
    "**object.within(other)**\n",
    "\n",
    "This predicate applies to all types, and is inverse to within(). The expression a.contains(b) == b.within(a) always evaluates to True.\n",
    "\n",
    "**Note:** A line’s endpoints are part of its boundary and are therefore not contained.\n"
   ]
  },
  {
   "cell_type": "code",
   "execution_count": 25,
   "metadata": {
    "colab": {
     "base_uri": "https://localhost:8080/",
     "height": 68
    },
    "colab_type": "code",
    "id": "_TB16RYHbTbt",
    "outputId": "61a8dabb-7245-415a-dea2-dba0a5989ba6"
   },
   "outputs": [
    {
     "name": "stdout",
     "output_type": "stream",
     "text": [
      "True\n",
      "True\n",
      "False\n"
     ]
    }
   ],
   "source": [
    "from shapely.geometry import Point\n",
    "from shapely.geometry import LineString\n",
    "from shapely.geometry import Polygon\n",
    "\n",
    "\n",
    "# define a shapely Point and a shapely LineString\n",
    "\n",
    "pt = Point(0.5, 0.5)\n",
    "\n",
    "coords = [(0, 0), (1, 1)]\n",
    "line = LineString(coords)\n",
    "\n",
    "print(line.contains(pt))\n",
    "\n",
    "print(pt.within(line))\n",
    "\n",
    "# NOTE: A line’s endpoints are part of its boundary and are therefore not contained.\n",
    "pt2 = Point(1.0, 1.0)\n",
    "print(line.contains(pt2))\n"
   ]
  },
  {
   "cell_type": "code",
   "execution_count": 26,
   "metadata": {
    "colab": {
     "base_uri": "https://localhost:8080/",
     "height": 34
    },
    "colab_type": "code",
    "id": "KJvOFHELepsx",
    "outputId": "df2bd7c6-bc8a-4c48-e4f5-998c4fa7ff68"
   },
   "outputs": [
    {
     "data": {
      "text/plain": [
       "False"
      ]
     },
     "execution_count": 26,
     "metadata": {},
     "output_type": "execute_result"
    }
   ],
   "source": [
    "# Point in Polgyon\n",
    "\n",
    "a = Point(2, 2)\n",
    "b = Polygon([[1, 1], [1, 3], [3, 3], [3, 1]])\n",
    "c = Polygon([[0, 0], [0, 4], [4, 4], [4, 0]])\n",
    "d = Point(-1, -1)\n",
    "\n",
    "a.within(b)\n",
    "d.within(c)"
   ]
  },
  {
   "cell_type": "markdown",
   "metadata": {
    "colab_type": "text",
    "id": "CDlXS6-ZdGpa"
   },
   "source": [
    "### 3. Cross\n",
    "\n",
    "**object.crosses(other)**\n",
    "\n",
    "Returns True if the interior of the object intersects the interior of the other but does not contain it, and the dimension of the intersection is less than the dimension of the one or the other."
   ]
  },
  {
   "cell_type": "code",
   "execution_count": 27,
   "metadata": {
    "colab": {
     "base_uri": "https://localhost:8080/",
     "height": 68
    },
    "colab_type": "code",
    "id": "2ooph1RecDGQ",
    "outputId": "e1ba8c8c-9f1e-4b87-c841-8bb5aefc77b6"
   },
   "outputs": [
    {
     "name": "stdout",
     "output_type": "stream",
     "text": [
      "True\n",
      "True\n",
      "False\n"
     ]
    }
   ],
   "source": [
    "# We can write the cross statement as:\n",
    "print(LineString(coords).crosses(LineString([(0, 1), (1, 0)])))\n",
    "\n",
    "# Or:\n",
    "coords2 = [(0, 1), (1, 0)]\n",
    "line2 = LineString(coords2)\n",
    "\n",
    "print(line.crosses(line2))\n",
    "\n",
    "\n",
    "#NOTE: A line does not cross a point that it contains.\n",
    "print(line.crosses(Point(0.5, 0.5)))"
   ]
  },
  {
   "cell_type": "markdown",
   "metadata": {
    "colab_type": "text",
    "id": "eWXWY1dwdyf2"
   },
   "source": [
    "### 4. Disjoint\n",
    "\n",
    "**object.disjoint(other)**\n",
    "\n",
    "Returns True if the boundary and interior of the object do not intersect at all with those of the other."
   ]
  },
  {
   "cell_type": "code",
   "execution_count": 28,
   "metadata": {
    "colab": {
     "base_uri": "https://localhost:8080/",
     "height": 34
    },
    "colab_type": "code",
    "id": "tRzzc10yeK_A",
    "outputId": "8bb0869f-d20f-4e9c-ab69-9f428467927e"
   },
   "outputs": [
    {
     "data": {
      "text/plain": [
       "True"
      ]
     },
     "execution_count": 28,
     "metadata": {},
     "output_type": "execute_result"
    }
   ],
   "source": [
    "Point(0, 0).disjoint(Point(1, 1))"
   ]
  },
  {
   "cell_type": "markdown",
   "metadata": {
    "colab_type": "text",
    "id": "Q8BgvbPOeQkA"
   },
   "source": [
    "### 5. Intersect, Overlap and Touch\n",
    "\n",
    "**object.intersects(other)**\n",
    "\n",
    "Returns True if the boundary or interior of the object intersect in any way with those of the other.\n",
    "\n",
    "In other words, geometric objects intersect if they have any boundary or interior point in common.\n",
    "\n",
    "**object.overlaps(other)**\n",
    "\n",
    "Returns True if the objects intersect (see above) but neither contains the other.\n",
    "\n",
    "**object.touches(other)**\n",
    "\n",
    "Returns True if the objects have at least one point in common and their interiors do not intersect with any part of the other."
   ]
  },
  {
   "cell_type": "code",
   "execution_count": 29,
   "metadata": {
    "colab": {
     "base_uri": "https://localhost:8080/",
     "height": 34
    },
    "colab_type": "code",
    "id": "M97NG--HePKR",
    "outputId": "ca6ffd41-ab8f-47b3-da19-332b266fb660"
   },
   "outputs": [
    {
     "data": {
      "text/plain": [
       "True"
      ]
     },
     "execution_count": 29,
     "metadata": {},
     "output_type": "execute_result"
    }
   ],
   "source": [
    "a = LineString([(0, 0), (1, 1)])\n",
    "\n",
    "b = LineString([(1, 1), (2, 2)])\n",
    "\n",
    "a.touches(b)\n"
   ]
  },
  {
   "cell_type": "markdown",
   "metadata": {
    "colab_type": "text",
    "id": "OsmDZqEAfKa_"
   },
   "source": [
    "## DE-9IM Relationships and Spatial Analysis Methods\n",
    "\n",
    "As well as boolean attributes and methods, Shapely provides analysis methods that return new geometric objects.\n",
    "\n",
    "Almost every binary predicate method has a counterpart that returns a new geometric object. In addition, the set-theoretic boundary of an object is available as a read-only attribute.\n",
    "\n",
    "\n"
   ]
  },
  {
   "cell_type": "markdown",
   "metadata": {
    "colab_type": "text",
    "id": "DAGG5dDSfk1-"
   },
   "source": [
    "\n",
    "### 1. Object.boundary\n",
    "\n",
    "Returns a lower dimensional object representing the object’s set-theoretic boundary."
   ]
  },
  {
   "cell_type": "code",
   "execution_count": 30,
   "metadata": {
    "colab": {
     "base_uri": "https://localhost:8080/",
     "height": 223
    },
    "colab_type": "code",
    "id": "KIsO7nkGeip-",
    "outputId": "326b621f-2b0e-4af3-dc01-2f9ddf6cf552"
   },
   "outputs": [
    {
     "name": "stdout",
     "output_type": "stream",
     "text": [
      "Boundary of the lines:  MULTIPOINT (-1 0, 0 0, 1 0, 1 1)\n",
      "Type of the boundary object of the MultiLineString:  <class 'shapely.geometry.multipoint.MultiPoint'>\n",
      "-1.0 0.0\n",
      "0.0 0.0\n",
      "1.0 0.0\n",
      "1.0 1.0\n"
     ]
    },
    {
     "data": {
      "image/svg+xml": [
       "<svg xmlns=\"http://www.w3.org/2000/svg\" xmlns:xlink=\"http://www.w3.org/1999/xlink\" width=\"100.0\" height=\"100.0\" viewBox=\"-1.08 -0.08 2.16 1.1600000000000001\" preserveAspectRatio=\"xMinYMin meet\"><g transform=\"matrix(1,0,0,-1,0,1.0)\"><g><polyline fill=\"none\" stroke=\"#66cc99\" stroke-width=\"0.0432\" points=\"0.0,0.0 1.0,1.0\" opacity=\"0.8\" /><polyline fill=\"none\" stroke=\"#66cc99\" stroke-width=\"0.0432\" points=\"-1.0,0.0 1.0,0.0\" opacity=\"0.8\" /></g></g></svg>"
      ],
      "text/plain": [
       "<shapely.geometry.multilinestring.MultiLineString at 0x7ff770cc3a30>"
      ]
     },
     "execution_count": 30,
     "metadata": {},
     "output_type": "execute_result"
    }
   ],
   "source": [
    "from shapely.geometry import MultiLineString\n",
    "\n",
    "coords = [((0, 0), (1, 1)), ((-1, 0), (1, 0))]\n",
    "lines = MultiLineString(coords)\n",
    "\n",
    "print(\"Boundary of the lines: \", lines.boundary)\n",
    "print(\"Type of the boundary object of the MultiLineString: \", type(lines.boundary))\n",
    "\n",
    "#print the coords of the boundary\n",
    "for pt in lines.boundary.geoms:\n",
    "   print(pt.x, pt.y)\n",
    "\n",
    "    \n",
    "lines\n",
    "    \n",
    "\n"
   ]
  },
  {
   "cell_type": "markdown",
   "metadata": {
    "colab_type": "text",
    "id": "6xGx4yaphRbT"
   },
   "source": [
    "### 2. Centroid\n",
    "\n"
   ]
  },
  {
   "cell_type": "code",
   "execution_count": 31,
   "metadata": {
    "colab": {
     "base_uri": "https://localhost:8080/",
     "height": 172
    },
    "colab_type": "code",
    "id": "p_GGzujsf45U",
    "outputId": "7bc6e4b9-2276-4f4b-876e-6fbb5e21a14a"
   },
   "outputs": [
    {
     "name": "stdout",
     "output_type": "stream",
     "text": [
      "<class 'shapely.geometry.point.Point'>\n",
      "Centroid of line (0, 0), (1, 1):  POINT (0.5 0.5)\n",
      "Centroid of polygon b:  POINT (2 2)\n"
     ]
    },
    {
     "data": {
      "image/svg+xml": [
       "<svg xmlns=\"http://www.w3.org/2000/svg\" xmlns:xlink=\"http://www.w3.org/1999/xlink\" width=\"100.0\" height=\"100.0\" viewBox=\"0.92 0.92 2.16 2.16\" preserveAspectRatio=\"xMinYMin meet\"><g transform=\"matrix(1,0,0,-1,0,4.0)\"><path fill-rule=\"evenodd\" fill=\"#66cc99\" stroke=\"#555555\" stroke-width=\"0.0432\" opacity=\"0.6\" d=\"M 1.0,1.0 L 1.0,3.0 L 3.0,3.0 L 3.0,1.0 L 1.0,1.0 z\" /></g></svg>"
      ],
      "text/plain": [
       "<shapely.geometry.polygon.Polygon at 0x7ff7606667f0>"
      ]
     },
     "execution_count": 31,
     "metadata": {},
     "output_type": "execute_result"
    }
   ],
   "source": [
    "lcent = LineString([(0, 0), (1, 1)]).centroid # get centroid of a line\n",
    "\n",
    "print(type(lcent))\n",
    "\n",
    "print(\"Centroid of line (0, 0), (1, 1): \", lcent)\n",
    "\n",
    "# Get centroid of a polygon\n",
    "b = Polygon([[1, 1], [1, 3], [3, 3], [3, 1]])\n",
    "\n",
    "pcent = b.centroid\n",
    "\n",
    "print(\"Centroid of polygon b: \", pcent)\n",
    "\n",
    "b"
   ]
  },
  {
   "cell_type": "markdown",
   "metadata": {
    "colab_type": "text",
    "id": "SuGp-RT8iKC1"
   },
   "source": [
    "### 3. Difference\n",
    "\n",
    "**object.difference(other)**:\n",
    "\n",
    "Returns a representation of the points making up this geometric object that do not make up the other object.\n",
    "\n",
    "\n",
    "**object.symmetric_difference(other):**\n",
    "\n",
    "Returns a representation of the points in this object not in the other geometric object, and the points in the other not in this geometric object.\n"
   ]
  },
  {
   "cell_type": "code",
   "execution_count": 32,
   "metadata": {
    "colab": {
     "base_uri": "https://localhost:8080/",
     "height": 1000
    },
    "colab_type": "code",
    "id": "iqGOZYWJhiQp",
    "outputId": "6db76df0-180c-4ec1-813a-73d9001ea540"
   },
   "outputs": [
    {
     "name": "stdout",
     "output_type": "stream",
     "text": [
      "a-b yield below polygon: \n",
      "\n",
      "1.4354270158816935 -0.43541050359831335\n",
      "1.2926354830241924 -0.47117792060484565\n",
      "1.147025710494341 -0.4927770900082953\n",
      "1.0 -0.5\n",
      "0.852974289505659 -0.4927770900082953\n",
      "0.7073645169758077 -0.47117792060484565\n",
      "0.5645729841183067 -0.43541050359831335\n",
      "0.42597485145236536 -0.38581929876693\n",
      "0.29290489476100345 -0.32288189652253263\n",
      "0.16664465047059707 -0.24720441845381824\n",
      "0.0484100737545321 -0.15951568004410577\n",
      "-0.06066017177982119 -0.060660171779821415\n",
      "-0.15951568004410555 0.04841007375453177\n",
      "-0.24720441845381802 0.16664465047059673\n",
      "-0.3228818965225324 0.29290489476100334\n",
      "-0.38581929876693 0.42597485145236524\n",
      "-0.43541050359831335 0.5645729841183065\n",
      "-0.47117792060484565 0.7073645169758072\n",
      "-0.4927770900082953 0.8529742895056587\n",
      "-0.5 0.9999999999999998\n",
      "-0.4927770900082953 1.1470257104943409\n",
      "-0.47117792060484565 1.2926354830241924\n",
      "-0.43541050359831335 1.4354270158816933\n",
      "-0.38581929876693 1.5740251485476344\n",
      "-0.32288189652253263 1.7070951052389964\n",
      "-0.24720441845381824 1.8333553495294028\n",
      "-0.15951568004410577 1.951589926245468\n",
      "-0.060660171779821415 2.060660171779821\n",
      "0.0484100737545311 2.159515680044105\n",
      "0.16664465047059673 2.247204418453818\n",
      "0.29290489476100323 2.3228818965225324\n",
      "0.42597485145236447 2.38581929876693\n",
      "0.5645729841183065 2.4354105035983133\n",
      "0.7073645169758069 2.4711779206048456\n",
      "0.8529742895056593 2.4927770900082953\n",
      "0.9999999999999998 2.5\n",
      "1.1470257104943402 2.4927770900082953\n",
      "1.2926354830241924 2.4711779206048456\n",
      "1.435427015881693 2.4354105035983133\n",
      "1.4999999999999998 2.412305920438431\n",
      "1.4259748514523645 2.38581929876693\n",
      "1.2929048947610031 2.3228818965225324\n",
      "1.1666446504705967 2.247204418453818\n",
      "1.048410073754531 2.159515680044105\n",
      "0.9393398282201786 2.060660171779821\n",
      "0.8404843199558942 1.951589926245468\n",
      "0.7527955815461818 1.8333553495294028\n",
      "0.6771181034774674 1.7070951052389964\n",
      "0.61418070123307 1.5740251485476344\n",
      "0.5645894964016867 1.4354270158816933\n",
      "0.5288220793951544 1.2926354830241924\n",
      "0.5072229099917047 1.1470257104943409\n",
      "0.5 0.9999999999999998\n",
      "0.5072229099917047 0.8529742895056587\n",
      "0.5288220793951544 0.7073645169758072\n",
      "0.5645894964016867 0.5645729841183065\n",
      "0.61418070123307 0.42597485145236524\n",
      "0.6771181034774676 0.29290489476100334\n",
      "0.752795581546182 0.16664465047059673\n",
      "0.8404843199558945 0.04841007375453177\n",
      "0.9393398282201788 -0.060660171779821415\n",
      "1.048410073754532 -0.15951568004410577\n",
      "1.1666446504705972 -0.24720441845381824\n",
      "1.2929048947610036 -0.32288189652253263\n",
      "1.4259748514523654 -0.38581929876693\n",
      "1.5000000000000002 -0.4123059204384313\n",
      "1.4354270158816935 -0.43541050359831335\n"
     ]
    },
    {
     "data": {
      "image/svg+xml": [
       "<svg xmlns=\"http://www.w3.org/2000/svg\" xmlns:xlink=\"http://www.w3.org/1999/xlink\" width=\"100.0\" height=\"100.0\" viewBox=\"-0.62 -0.62 2.24 3.24\" preserveAspectRatio=\"xMinYMin meet\"><g transform=\"matrix(1,0,0,-1,0,2.0)\"><path fill-rule=\"evenodd\" fill=\"#66cc99\" stroke=\"#555555\" stroke-width=\"0.06480000000000001\" opacity=\"0.6\" d=\"M 1.4354270158816935,-0.43541050359831335 L 1.2926354830241924,-0.47117792060484565 L 1.147025710494341,-0.4927770900082953 L 1.0,-0.5 L 0.852974289505659,-0.4927770900082953 L 0.7073645169758077,-0.47117792060484565 L 0.5645729841183067,-0.43541050359831335 L 0.42597485145236536,-0.38581929876693 L 0.29290489476100345,-0.32288189652253263 L 0.16664465047059707,-0.24720441845381824 L 0.0484100737545321,-0.15951568004410577 L -0.06066017177982119,-0.060660171779821415 L -0.15951568004410555,0.04841007375453177 L -0.24720441845381802,0.16664465047059673 L -0.3228818965225324,0.29290489476100334 L -0.38581929876693,0.42597485145236524 L -0.43541050359831335,0.5645729841183065 L -0.47117792060484565,0.7073645169758072 L -0.4927770900082953,0.8529742895056587 L -0.5,0.9999999999999998 L -0.4927770900082953,1.1470257104943409 L -0.47117792060484565,1.2926354830241924 L -0.43541050359831335,1.4354270158816933 L -0.38581929876693,1.5740251485476344 L -0.32288189652253263,1.7070951052389964 L -0.24720441845381824,1.8333553495294028 L -0.15951568004410577,1.951589926245468 L -0.060660171779821415,2.060660171779821 L 0.0484100737545311,2.159515680044105 L 0.16664465047059673,2.247204418453818 L 0.29290489476100323,2.3228818965225324 L 0.42597485145236447,2.38581929876693 L 0.5645729841183065,2.4354105035983133 L 0.7073645169758069,2.4711779206048456 L 0.8529742895056593,2.4927770900082953 L 0.9999999999999998,2.5 L 1.1470257104943402,2.4927770900082953 L 1.2926354830241924,2.4711779206048456 L 1.435427015881693,2.4354105035983133 L 1.4999999999999998,2.412305920438431 L 1.4259748514523645,2.38581929876693 L 1.2929048947610031,2.3228818965225324 L 1.1666446504705967,2.247204418453818 L 1.048410073754531,2.159515680044105 L 0.9393398282201786,2.060660171779821 L 0.8404843199558942,1.951589926245468 L 0.7527955815461818,1.8333553495294028 L 0.6771181034774674,1.7070951052389964 L 0.61418070123307,1.5740251485476344 L 0.5645894964016867,1.4354270158816933 L 0.5288220793951544,1.2926354830241924 L 0.5072229099917047,1.1470257104943409 L 0.5,0.9999999999999998 L 0.5072229099917047,0.8529742895056587 L 0.5288220793951544,0.7073645169758072 L 0.5645894964016867,0.5645729841183065 L 0.61418070123307,0.42597485145236524 L 0.6771181034774676,0.29290489476100334 L 0.752795581546182,0.16664465047059673 L 0.8404843199558945,0.04841007375453177 L 0.9393398282201788,-0.060660171779821415 L 1.048410073754532,-0.15951568004410577 L 1.1666446504705972,-0.24720441845381824 L 1.2929048947610036,-0.32288189652253263 L 1.4259748514523654,-0.38581929876693 L 1.5000000000000002,-0.4123059204384313 L 1.4354270158816935,-0.43541050359831335 z\" /></g></svg>"
      ],
      "text/plain": [
       "<shapely.geometry.polygon.Polygon at 0x7ff770cc3c70>"
      ]
     },
     "execution_count": 32,
     "metadata": {},
     "output_type": "execute_result"
    }
   ],
   "source": [
    "# Get two circles\n",
    "a = Point(1, 1).buffer(1.5)\n",
    "\n",
    "b = Point(2, 1).buffer(1.5)\n",
    "\n",
    "# Take the difference and return a Polygon containing part in a but not in b\n",
    "c = a.difference(b)\n",
    "\n",
    "print(\"a-b yield below polygon: \\n\")\n",
    "\n",
    "# print coordinates of the polygon\n",
    "for pt in c.exterior.coords:\n",
    "  print(pt[0], pt[1])\n",
    "  \n",
    "c"
   ]
  },
  {
   "cell_type": "markdown",
   "metadata": {
    "colab_type": "text",
    "id": "UdbWrJrYCg1A"
   },
   "source": [
    "### 4. Union\n",
    "\n",
    "**object.union(other):**\n",
    "\n",
    "Returns a representation of the union of points from this object and the other geometric object.\n",
    "\n",
    "The type of object returned depends on the relationship between the operands. The union of polygons (for example) will be a polygon or a multi-polygon depending on whether they intersect or not.\n"
   ]
  },
  {
   "cell_type": "code",
   "execution_count": 33,
   "metadata": {
    "colab": {
     "base_uri": "https://localhost:8080/",
     "height": 138
    },
    "colab_type": "code",
    "id": "hawkD9QhCpyi",
    "outputId": "203eba3a-7fb5-41f3-fd76-58029951d813"
   },
   "outputs": [
    {
     "name": "stdout",
     "output_type": "stream",
     "text": [
      "<class 'shapely.geometry.polygon.Polygon'>\n"
     ]
    },
    {
     "data": {
      "image/svg+xml": [
       "<svg xmlns=\"http://www.w3.org/2000/svg\" xmlns:xlink=\"http://www.w3.org/1999/xlink\" width=\"100.0\" height=\"100.0\" viewBox=\"-0.66 -0.66 4.32 3.3200000000000003\" preserveAspectRatio=\"xMinYMin meet\"><g transform=\"matrix(1,0,0,-1,0,2.0)\"><path fill-rule=\"evenodd\" fill=\"#66cc99\" stroke=\"#555555\" stroke-width=\"0.0864\" opacity=\"0.6\" d=\"M 1.4354270158816935,-0.43541050359831335 L 1.2926354830241924,-0.47117792060484565 L 1.147025710494341,-0.4927770900082953 L 1.0,-0.5 L 0.852974289505659,-0.4927770900082953 L 0.7073645169758077,-0.47117792060484565 L 0.5645729841183067,-0.43541050359831335 L 0.42597485145236536,-0.38581929876693 L 0.29290489476100345,-0.32288189652253263 L 0.16664465047059707,-0.24720441845381824 L 0.0484100737545321,-0.15951568004410577 L -0.06066017177982119,-0.060660171779821415 L -0.15951568004410555,0.04841007375453177 L -0.24720441845381802,0.16664465047059673 L -0.3228818965225324,0.29290489476100334 L -0.38581929876693,0.42597485145236524 L -0.43541050359831335,0.5645729841183065 L -0.47117792060484565,0.7073645169758072 L -0.4927770900082953,0.8529742895056587 L -0.5,0.9999999999999998 L -0.4927770900082953,1.1470257104943409 L -0.47117792060484565,1.2926354830241924 L -0.43541050359831335,1.4354270158816933 L -0.38581929876693,1.5740251485476344 L -0.32288189652253263,1.7070951052389964 L -0.24720441845381824,1.8333553495294028 L -0.15951568004410577,1.951589926245468 L -0.060660171779821415,2.060660171779821 L 0.0484100737545311,2.159515680044105 L 0.16664465047059673,2.247204418453818 L 0.29290489476100323,2.3228818965225324 L 0.42597485145236447,2.38581929876693 L 0.5645729841183065,2.4354105035983133 L 0.7073645169758069,2.4711779206048456 L 0.8529742895056593,2.4927770900082953 L 0.9999999999999998,2.5 L 1.1470257104943402,2.4927770900082953 L 1.2926354830241924,2.4711779206048456 L 1.435427015881693,2.4354105035983133 L 1.4999999999999998,2.412305920438431 L 1.5645729841183065,2.4354105035983133 L 1.707364516975807,2.4711779206048456 L 1.8529742895056593,2.4927770900082953 L 1.9999999999999998,2.5 L 2.14702571049434,2.4927770900082953 L 2.2926354830241924,2.4711779206048456 L 2.435427015881693,2.4354105035983133 L 2.574025148547635,2.38581929876693 L 2.7070951052389964,2.3228818965225324 L 2.833355349529403,2.2472044184538182 L 2.951589926245468,2.1595156800441053 L 3.060660171779821,2.0606601717798214 L 3.159515680044105,1.951589926245469 L 3.247204418453818,1.8333553495294033 L 3.3228818965225324,1.7070951052389969 L 3.38581929876693,1.5740251485476355 L 3.4354105035983133,1.4354270158816935 L 3.4711779206048456,1.292635483024193 L 3.4927770900082953,1.1470257104943409 L 3.5,1.0 L 3.4927770900082953,0.8529742895056591 L 3.4711779206048456,0.7073645169758076 L 3.4354105035983133,0.5645729841183065 L 3.38581929876693,0.42597485145236536 L 3.3228818965225324,0.29290489476100356 L 3.247204418453818,0.16664465047059673 L 3.1595156800441053,0.04841007375453177 L 3.0606601717798214,-0.06066017177982119 L 2.951589926245468,-0.15951568004410532 L 2.8333553495294037,-0.2472044184538178 L 2.707095105238997,-0.3228818965225324 L 2.574025148547635,-0.38581929876693 L 2.4354270158816935,-0.43541050359831335 L 2.2926354830241924,-0.47117792060484565 L 2.1470257104943413,-0.4927770900082953 L 2.0,-0.5 L 1.8529742895056591,-0.4927770900082953 L 1.7073645169758076,-0.47117792060484565 L 1.5645729841183067,-0.43541050359831335 L 1.5000000000000002,-0.4123059204384313 L 1.4354270158816935,-0.43541050359831335 z\" /></g></svg>"
      ],
      "text/plain": [
       "<shapely.geometry.polygon.Polygon at 0x7ff720020220>"
      ]
     },
     "execution_count": 33,
     "metadata": {},
     "output_type": "execute_result"
    }
   ],
   "source": [
    "a = Point(1, 1).buffer(1.5)\n",
    "\n",
    "b = Point(2, 1).buffer(1.5)\n",
    "\n",
    "c = a.union(b)\n",
    "\n",
    "print(type(c))\n",
    "\n",
    "# Exercise: Get all the coordinates of the intersected polygon c\n",
    "\n",
    "c"
   ]
  },
  {
   "cell_type": "markdown",
   "metadata": {
    "colab_type": "text",
    "id": "Wjr-56_i3H0i"
   },
   "source": [
    "### 5. Intersection\n",
    "\n",
    "**object.intersection(other):**\n",
    "\n",
    "Returns a representation of the intersection of this object with the other geometric object."
   ]
  },
  {
   "cell_type": "code",
   "execution_count": 34,
   "metadata": {
    "colab": {
     "base_uri": "https://localhost:8080/",
     "height": 121
    },
    "colab_type": "code",
    "id": "DuTilnGj3Knq",
    "outputId": "559db14d-5aae-4eb6-e92b-e210cd3b85d6"
   },
   "outputs": [
    {
     "data": {
      "image/svg+xml": [
       "<svg xmlns=\"http://www.w3.org/2000/svg\" xmlns:xlink=\"http://www.w3.org/1999/xlink\" width=\"100.0\" height=\"100.0\" viewBox=\"-0.28 -0.28 5.5600000000000005 7.5600000000000005\" preserveAspectRatio=\"xMinYMin meet\"><g transform=\"matrix(1,0,0,-1,0,7.0)\"><g><polyline fill=\"none\" stroke=\"#66cc99\" stroke-width=\"0.1512\" points=\"0.0,0.0 1.0,1.0\" opacity=\"0.8\" /><polyline fill=\"none\" stroke=\"#66cc99\" stroke-width=\"0.1512\" points=\"1.0,0.5 0.0,2.0\" opacity=\"0.8\" /><polyline fill=\"none\" stroke=\"#66cc99\" stroke-width=\"0.1512\" points=\"5.0,6.0 2.0,7.0\" opacity=\"0.8\" /></g></g></svg>"
      ],
      "text/plain": [
       "<shapely.geometry.multilinestring.MultiLineString at 0x7ff770a19f10>"
      ]
     },
     "execution_count": 34,
     "metadata": {},
     "output_type": "execute_result"
    }
   ],
   "source": [
    "from shapely.geometry import LineString, MultiLineString\n",
    "\n",
    "# Create two lines\n",
    "line_a = LineString([(0, 0), (1, 1)])\n",
    "line_b = LineString([(1, 0.5), (0, 2)])\n",
    "line_c = LineString([(5, 6), (2, 7)])\n",
    "\n",
    "line_b.intersection(line_a)\n",
    "\n",
    "multi_line = MultiLineString([line_a, line_b, line_c])\n",
    "\n",
    "multi_line\n",
    "\n"
   ]
  },
  {
   "cell_type": "code",
   "execution_count": 36,
   "metadata": {
    "colab": {
     "base_uri": "https://localhost:8080/",
     "height": 68
    },
    "colab_type": "code",
    "id": "pjpQqa1YAmuq",
    "outputId": "3236c325-7fa8-4829-be8a-db17c22f492f"
   },
   "outputs": [
    {
     "name": "stdout",
     "output_type": "stream",
     "text": [
      "POINT (0.8 0.8)\n",
      "LINESTRING EMPTY\n",
      "LINESTRING EMPTY\n"
     ]
    }
   ],
   "source": [
    "num = len(multi_line.geoms)\n",
    "\n",
    "# check the intersection of every two lines in the MultiLineString\n",
    "for i in range(num-1): # from the first to the second last line\n",
    "    for j in range(i+1, num): # from i+1 to the end \n",
    "        line_i = multi_line.geoms[i]\n",
    "        line_j = multi_line.geoms[j]\n",
    "        print(line_i.intersection(line_j))"
   ]
  },
  {
   "cell_type": "markdown",
   "metadata": {
    "colab_type": "text",
    "id": "w75o0mkSDFP0"
   },
   "source": [
    "## Constructive Methods\n",
    "\n",
    "Shapely geometric object have several methods that yield new objects not derived from set-theoretic analysis.\n"
   ]
  },
  {
   "cell_type": "markdown",
   "metadata": {
    "colab_type": "text",
    "id": "1qQk1vO0DLM7"
   },
   "source": [
    "### 1. Buffer\n",
    "\n",
    "**object.buffer**(distance, resolution=16, cap_style=1, join_style=1, mitre_limit=5.0)\n",
    "\n",
    "Returns an approximate representation of all points within a given distance of the this geometric object.\n",
    "\n",
    "The styles of caps are specified by integer values: 1 (round), 2 (flat), 3 (square). These values are also enumerated by the object shapely.geometry.CAP_STYLE (see below).\n",
    "\n",
    "The styles of joins between offset segments are specified by integer values: 1 (round), 2 (mitre), and 3 (bevel). These values are also enumerated by the object shapely.geometry.JOIN_STYLE (see below).\n",
    "\n",
    "shapely.geometry.CAP_STYLE\n",
    "Attribute\tValue\n",
    "round\t1\n",
    "flat\t2\n",
    "square\t3\n",
    "shapely.geometry.JOIN_STYLE\n",
    "Attribute\tValue\n",
    "round\t1\n",
    "mitre\t2\n",
    "bevel\t3"
   ]
  },
  {
   "cell_type": "code",
   "execution_count": 37,
   "metadata": {
    "colab": {
     "base_uri": "https://localhost:8080/",
     "height": 121
    },
    "colab_type": "code",
    "id": "jmpXGCzZBtKx",
    "outputId": "70b0c0a1-f961-4251-871f-7e4a4a8bb28d"
   },
   "outputs": [
    {
     "data": {
      "image/svg+xml": [
       "<svg xmlns=\"http://www.w3.org/2000/svg\" xmlns:xlink=\"http://www.w3.org/1999/xlink\" width=\"100.0\" height=\"100.0\" viewBox=\"-0.6599986858544988 -0.6599986858544988 4.319964518071469 3.3199973717089977\" preserveAspectRatio=\"xMinYMin meet\"><g transform=\"matrix(1,0,0,-1,0,2.0)\"><path fill-rule=\"evenodd\" fill=\"#66cc99\" stroke=\"#555555\" stroke-width=\"0.08639929036142938\" opacity=\"0.6\" d=\"M 0.29289321881345254,1.0 L -0.35355339059327373,1.6464466094067263 L -0.38650522668136855,1.6828033579181774 L -0.41573480615127273,1.722214883490199 L -0.4409606321741775,1.7643016315870013 L -0.46193976625564337,1.8086582838174552 L -0.47847016786610447,1.854857661372769 L -0.4903926402016152,1.9024548389919358 L -0.49759236333609846,1.9509914298352198 L -0.5,2.0 L -0.4975923633360984,2.0490085701647804 L -0.4903926402016152,2.0975451610080644 L -0.4784701678661044,2.145142338627231 L -0.46193976625564337,2.191341716182545 L -0.44096063217417747,2.235698368412999 L -0.4157348061512727,2.277785116509801 L -0.3865052266813685,2.317196642081823 L -0.35355339059327373,2.353553390593274 L -0.31719664208182263,2.3865052266813684 L -0.277785116509801,2.415734806151273 L -0.23569836841299885,2.4409606321741775 L -0.19134171618254486,2.4619397662556435 L -0.1451423386272311,2.4784701678661043 L -0.09754516100806421,2.490392640201615 L -0.04900857016478033,2.4975923633360986 L 0.0,2.5 L 2.0,2.5 L 2.0490085701647804,2.4975923633360986 L 2.097545161008064,2.490392640201615 L 2.145142338627231,2.4784701678661043 L 2.191341716182545,2.4619397662556435 L 2.235698368412999,2.4409606321741775 L 2.277785116509801,2.4157348061512725 L 2.317196642081823,2.3865052266813684 L 2.353553390593274,2.353553390593274 L 3.353553390593274,1.3535533905932737 L 3.3869593598581984,1.3166424700164734 L 3.416529207756272,1.2765925145153654 L 3.441969793619239,1.2338005592982344 L 3.4630289122153934,1.1886908223858001 L 3.4794977939859795,1.1417104991261375 L 3.491213174682082,1.093325328923881 L 3.49805891388465,1.0440149781329329 L 3.4999671463624717,0.9942682848843709 L 3.496918954854096,0.9445784129899476 L 3.488944557604095,0.8954379629629575 L 3.476123008794514,0.8473340886233632 L 3.4585814148412894,0.8007436676987124 L 3.436493674324875,0.7561285742970902 L 3.4100787540467756,0.7139311001184432 L 3.3795985183023,0.6745695697960952 L 3.3453551328890367,0.6384341938357615 L 3.3076880695864137,0.6058832002639496 L 3.2669707408024284,0.5772392833346474 L 3.223606797749979,0.5527864045000421 L 1.223606797749979,-0.4472135954999579 L 1.1786954721534513,-0.4669774386754194 L 1.1320632114752043,-0.48224403384060177 L 1.0841591098773562,-0.4928663553384945 L 1.0354445100453398,-0.4987421044063212 L 0.9863885602056465,-0.49981469436854764 L 0.9374636959719429,-0.4960737955975002 L 0.8891410905318508,-0.4875554349933274 L 0.8418861169915811,-0.47434164902525694 L 0.796153866578523,-0.4565596936755515 L 0.7523847658639455,-0.43438081889483443 L 0.7110003352143544,-0.4080186193714503 L 0.6723991293199356,-0.3777269774978532 L 0.6369528988950185,-0.343797618344382 L 0.6050030105154757,-0.30655730018735905 L 0.5768571590719873,-0.2663646676482649 L 0.5527864045000421,-0.22360679774997905 L 0.5330225613245806,-0.17869547215345133 L 0.5318852523876161,-0.17522152879893144 L 0.35355339059327373,-0.35355339059327373 L 0.3171966420818228,-0.38650522668136844 L 0.27778511650980114,-0.41573480615127256 L 0.2356983684129989,-0.44096063217417747 L 0.19134171618254492,-0.46193976625564337 L 0.14514233862723114,-0.47847016786610447 L 0.09754516100806415,-0.4903926402016152 L 0.049008570164780385,-0.4975923633360984 L 3.061616997868383e-17,-0.5 L -0.04900857016478033,-0.49759236333609846 L -0.0975451610080641,-0.4903926402016152 L -0.1451423386272311,-0.47847016786610447 L -0.19134171618254486,-0.46193976625564337 L -0.23569836841299885,-0.4409606321741775 L -0.277785116509801,-0.41573480615127273 L -0.31719664208182263,-0.38650522668136855 L -0.35355339059327373,-0.3535533905932738 L -0.3865052266813685,-0.31719664208182274 L -0.4157348061512727,-0.2777851165098011 L -0.44096063217417747,-0.2356983684129989 L -0.46193976625564337,-0.19134171618254492 L -0.4784701678661044,-0.14514233862723117 L -0.4903926402016152,-0.09754516100806429 L -0.4975923633360984,-0.04900857016478042 L -0.5,-6.123233995736766e-17 L -0.49759236333609846,0.049008570164780295 L -0.4903926402016152,0.09754516100806418 L -0.47847016786610447,0.14514233862723108 L -0.46193976625564337,0.19134171618254484 L -0.4409606321741775,0.23569836841299882 L -0.41573480615127273,0.277785116509801 L -0.38650522668136855,0.31719664208182263 L -0.35355339059327373,0.35355339059327373 L 0.29289321881345254,1.0 z M 1.4503736709046264,0.7842038298272606 L 2.1559174829590035,1.136975735854449 L 1.7928932188134525,1.5 L 1.2071067811865475,1.5 L 1.3535533905932737,1.3535533905932737 L 1.3865052266813684,1.3171966420818229 L 1.4157348061512727,1.277785116509801 L 1.4409606321741775,1.2356983684129987 L 1.4619397662556435,1.1913417161825448 L 1.4784701678661043,1.1451423386272312 L 1.4903926402016152,1.0975451610080642 L 1.4975923633360986,1.0490085701647802 L 1.5,1.0 L 1.4975923633360986,0.9509914298352197 L 1.4903926402016152,0.9024548389919359 L 1.4784701678661045,0.8548576613727689 L 1.4619397662556435,0.8086582838174551 L 1.4503736709046264,0.7842038298272606 z\" /></g></svg>"
      ],
      "text/plain": [
       "<shapely.geometry.polygon.Polygon at 0x7ff760c1cd30>"
      ]
     },
     "execution_count": 37,
     "metadata": {},
     "output_type": "execute_result"
    }
   ],
   "source": [
    "line = LineString([(0, 0), (1, 1), (0, 2), (2, 2), (3, 1), (1, 0)])\n",
    "\n",
    "dilated = line.buffer(0.5)\n",
    "\n",
    "dilated"
   ]
  },
  {
   "cell_type": "code",
   "execution_count": 38,
   "metadata": {
    "colab": {
     "base_uri": "https://localhost:8080/",
     "height": 121
    },
    "colab_type": "code",
    "id": "B4y_k7Y4DgTX",
    "outputId": "e35f876a-9128-48cf-a3de-e0f87e124ce6"
   },
   "outputs": [
    {
     "data": {
      "image/svg+xml": [
       "<svg xmlns=\"http://www.w3.org/2000/svg\" xmlns:xlink=\"http://www.w3.org/1999/xlink\" width=\"100.0\" height=\"100.0\" viewBox=\"-0.3356083064751496 -0.3356083064751496 3.6711928462392214 2.671578411891417\" preserveAspectRatio=\"xMinYMin meet\"><g transform=\"matrix(1,0,0,-1,0,2.0003617989411184)\"><path fill-rule=\"evenodd\" fill=\"#66cc99\" stroke=\"#555555\" stroke-width=\"0.07342385692478443\" opacity=\"0.6\" d=\"M 0.5050252531694168,0.7878679656440357 L 0.5247963548222736,0.8096820147509064 L 0.5423341025042161,0.8333289300941193 L 0.557469598117959,0.8585809789522008 L 0.5700570785668386,0.8851949702904731 L 0.5799753195331152,0.9129145968236613 L 0.5871288029344217,0.9414729033951615 L 0.5914486368151116,0.9705948579011319 L 0.5928932188134526,1.0 L 0.5914486368151116,1.0294051420988681 L 0.5871288029344217,1.0585270966048386 L 0.5799753195331152,1.0870854031763386 L 0.5700570785668386,1.1148050297095269 L 0.5574695981179589,1.1414190210477992 L 0.5423341025042161,1.1666710699058807 L 0.5247963548222736,1.1903179852490937 L 0.5050252531694168,1.2121320343559643 L -0.1362138070887073,1.8533710946140884 L -0.1543224163090482,1.873350865985734 L -0.16599309763520642,1.8890869581181025 L -0.17606517469008007,1.9058912034750297 L -0.18444164786567444,1.9236017679875952 L -0.191041847146261,1.942048089237961 L -0.19580220900473236,1.9610525190687023 L -0.19867688855411278,1.9804320344316702 L -0.1996382010588822,1.9999999999999998 L -0.19867688855411272,2.01956796556833 L -0.1958022090047323,2.0389474809312977 L -0.19104184714626107,2.0579519107620388 L -0.18444164786567427,2.076398232012405 L -0.1760651746900797,2.094108796524971 L -0.16599309763520645,2.1109130418818975 L -0.15432241630904925,2.1266491340142646 L -0.14116552575261915,2.1411655257526188 L -0.12664913401426475,2.154322416309049 L -0.11091304188189738,2.1659930976352064 L -0.0941087965249706,2.17606517469008 L -0.07639823201240413,2.184441647865675 L -0.057951910762040225,2.1910418471462605 L -0.03894748093129706,2.1958022090047327 L -0.019567965568329942,2.198676888554113 L 0.007364586632681456,2.2 L 1.9926354133673185,2.2 L 2.0195679655683296,2.198676888554113 L 2.0389474809312977,2.195802209004732 L 2.0579519107620405,2.1910418471462605 L 2.076398232012405,2.1844416478656745 L 2.094108796524969,2.176065174690081 L 2.1109130418818958,2.1659930976352073 L 2.1266491340142686,2.1543224163090464 L 2.146628905385912,2.1362138070887076 L 3.1361377664312835,1.1467049460433356 L 3.1544954989456087,1.1264211218730886 L 3.1663014116038086,1.1104309727779462 L 3.1764586953242713,1.0933460663046861 L 3.1848666558813163,1.0753357736627291 L 3.191441940963334,1.0565786398766723 L 3.196119366485863,1.0372606137803255 L 3.198852562793971,1.0175732046130626 L 3.199614434347804,0.997711583493085 L 3.198397428334199,0.9778726485886988 L 3.195213609541494,0.958253073168389 L 3.190094540755259,0.9390473558805699 L 3.1830909698606358,0.920445892591303 L 3.1742723267532162,0.9026330888950306 L 3.1637260350458183,0.8857855320098261 L 3.151556645394541,0.8700702401801025 L 3.1378847990359295,0.855643006941388 L 3.122846031810121,0.8426468566611727 L 3.1065894305264106,0.8312106266669661 L 3.0827594478963483,0.8177729261981949 L 1.096029805634733,-0.17559189493261246 L 1.0713488851961657,-0.18645307158449023 L 1.0527297239299365,-0.1925486627746331 L 1.0336027465972646,-0.1967899050844497 L 1.0141521564457305,-0.19913595303199835 L 0.9945652732912678,-0.19956421289306378 L 0.975030729525935,-0.1980705602910732 L 0.9557366534848583,-0.19466937991709732 L 0.9368688576675296,-0.18939342699741205 L 0.9186090492618543,-0.18229351184276257 L 0.9011330802046085,-0.17343801051729785 L 0.8846092536311471,-0.16291220633969006 L 0.8691967030242175,-0.15081746855816117 L 0.855043859671519,-0.13727027610920142 L 0.8422870231912706,-0.12240109586174412 L 0.8310490488923733,-0.106353126149893 L 0.8214381646106278,-0.08928091769468678 L 0.8091765639247368,-0.06141767592284468 L 0.8065989585174798,-0.0546712087479464 L 0.7936129177762219,-0.028597420378010496 L 0.7781594258186884,-0.0039059384376275152 L 0.7603841712463104,0.019170456839385924 L 0.740454731198666,0.04041421153296951 L 0.7185589915112558,0.059625049037747485 L 0.6949033754119904,0.07662185818117162 L 0.669710897455442,0.09124440065854661 L 0.6432190610415,0.1033548216880048 L 0.6156776193396807,0.11283894964365282 L 0.5873462207280961,0.11960737241452879 L 0.5584919609448262,0.12359628034194237 L 0.5293868650289177,0.12476806778836003 L 0.5003053227901408,0.12311168766651431 L 0.4715215019847458,0.11864275558639492 L 0.4433067635846417,0.11140340263827159 L 0.4159271035076803,0.1014618781996427 L 0.38964064492726697,0.0889119065106696 L 0.3646952048026809,0.07387180308401378 L 0.34132595757176587,0.05648335927917075 L 0.3197532180316519,0.03691050555703282 L 0.14662890538591267,-0.13621380708870634 L 0.126649134014266,-0.15432241630904814 L 0.11091304188189775,-0.16599309763520612 L 0.0941087965249686,-0.17606517469008104 L 0.07639823201240584,-0.18444164786567405 L 0.05795191076203835,-0.19104184714626124 L 0.03894748093129829,-0.19580220900473225 L 0.019567965568330126,-0.19867688855411272 L -3.119306752851973e-16,-0.1996382010588822 L -0.01956796556832997,-0.19867688855411278 L -0.03894748093129812,-0.1958022090047323 L -0.05795191076203855,-0.19104184714626118 L -0.07639823201240517,-0.1844416478656743 L -0.09410879652496978,-0.17606517469008043 L -0.11091304188189703,-0.16599309763520667 L -0.12664913401426622,-0.154322416309048 L -0.14116552575261912,-0.1411655257526189 L -0.15432241630904794,-0.1266491340142663 L -0.16599309763520642,-0.1109130418818974 L -0.17606517469008076,-0.09410879652496919 L -0.18444164786567413,-0.07639823201240566 L -0.1910418471462611,-0.057951910762038684 L -0.19580220900473233,-0.03894748093129799 L -0.1986768885541127,-0.01956796556833034 L -0.1996382010588822,2.7885109628798605e-16 L -0.19867688855411278,0.01956796556832957 L -0.19580220900473225,0.03894748093129817 L -0.19104184714626107,0.05795191076203883 L -0.1844416478656743,0.07639823201240514 L -0.1760651746900805,0.0941087965249696 L -0.16599309763520653,0.11091304188189723 L -0.154322416309048,0.1266491340142662 L -0.13621380708870703,0.14662890538591197 L 0.5050252531694168,0.7878679656440357 z M 1.179176882967594,0.9124703578563461 L 1.167822181791026,0.885023748492606 L 1.1592372562731252,0.8565888287946889 L 1.1535062621116925,0.8274443385727529 L 1.1506853786890345,0.7978759733644654 L 1.1508022583607078,0.7681735838390878 L 1.153855755386973,0.738628334469934 L 1.1598159371641699,0.7095298493279603 L 1.1686243776459182,0.6811633729755052 L 1.1801947300778137,0.653806974291164 L 1.194413573431255,0.6277288206359453 L 1.2111415242390435,0.6031845490813217 L 1.2302146029337306,0.5804147604683115 L 1.251445841294869,0.5596426608626524 L 1.2746271152477968,0.5410718735262411 L 1.2995311850475275,0.5248844428534924 L 1.3259139228483736,0.5112390498394861 L 1.3535167058230448,0.500269456573184 L 1.3820689513721196,0.4920831950039301 L 1.4112907695719235,0.4867605128348995 L 1.4408957068595827,0.4843535868766155 L 1.4705935540596546,0.48488601157181993 L 1.5000931912260103,0.4883525677055459 L 1.5291054414117529,0.49471927356766804 L 1.5573459053924446,0.5039237180663951 L 1.5845377495546138,0.5158756725272857 L 2.2900815616089907,0.8686475785544743 L 2.3160999274404603,0.8833193058552373 L 2.3405303247108518,0.9005056560128186 L 2.3631305626924255,0.9200362521559057 L 2.3836765939403834,0.9417174777321059 L 2.4019647353870686,0.9653343959255147 L 2.4178136875539287,0.9906528804327029 L 2.4310663318637773,1.0174219364736763 L 2.441591288235712,1.0453761890284667 L 2.4492842175214604,1.0742385136322232 L 2.454068855871461,1.1037227836484174 L 2.4558977707764864,1.1335367067850715 L 2.4547528312897935,1.1633847227342087 L 2.450645387768253,1.1929709332087775 L 2.4436161593505914,1.2220020353301315 L 2.4337348302882393,1.250190229285929 L 2.421099359130547,1.2772560714333896 L 2.4058350076127666,1.3029312445636683 L 2.3880930988739224,1.326961217864333 L 2.368049517314968,1.3491077702104133 L 2.005025253169417,1.7121320343559643 L 1.9832112040625463,1.731903136008821 L 1.9595642887193332,1.7494408836907636 L 1.9343122398612518,1.7645763793045064 L 1.9076982485229794,1.777163859753386 L 1.8799786219897912,1.7870821007196627 L 1.851420315418291,1.7942355841209692 L 1.8222983609123207,1.798555418001659 L 1.7928932188134525,1.8 L 1.2071067811865475,1.8 L 1.1777016390876793,1.798555418001659 L 1.148579684581709,1.794235584120969 L 1.1200213780102088,1.7870821007196627 L 1.0923017514770204,1.7771638597533859 L 1.065687760138748,1.7645763793045064 L 1.0404357112806668,1.7494408836907636 L 1.0167887959374537,1.731903136008821 L 0.9949747468305832,1.7121320343559643 L 0.9752036451777264,1.6903179852490935 L 0.9576658974957839,1.6666710699058807 L 0.942530401882041,1.6414190210477992 L 0.9299429214331614,1.6148050297095269 L 0.9200246804668848,1.5870854031763386 L 0.9128711970655783,1.5585270966048386 L 0.9085513631848884,1.5294051420988681 L 0.9071067811865474,1.5 L 0.9085513631848885,1.4705948579011316 L 0.9128711970655783,1.4414729033951614 L 0.9200246804668848,1.4129145968236614 L 0.9299429214331614,1.3851949702904731 L 0.9425304018820411,1.3585809789522008 L 0.9576658974957839,1.3333289300941193 L 0.9752036451777264,1.3096820147509063 L 0.9949747468305832,1.2878679656440357 L 1.1362138070887098,1.1466289053859091 L 1.1543224163090473,1.126649134014267 L 1.1659930976352069,1.1109130418818967 L 1.1760651746900799,1.0941087965249705 L 1.1844416478656743,1.076398232012405 L 1.1910418471462612,1.0579519107620383 L 1.1958022090047324,1.0389474809312975 L 1.1986768885541128,1.01956796556833 L 1.1996382010588822,1.0 L 1.1986768885541128,0.9804320344316703 L 1.1958022090047324,0.9610525190687029 L 1.191041847146261,0.9420480892379607 L 1.184441647865674,0.9236017679875942 L 1.179176882967594,0.9124703578563461 z\" /></g></svg>"
      ],
      "text/plain": [
       "<shapely.geometry.polygon.Polygon at 0x7ff76067e8e0>"
      ]
     },
     "execution_count": 38,
     "metadata": {},
     "output_type": "execute_result"
    }
   ],
   "source": [
    "eroded = dilated.buffer(-0.3)\n",
    "\n",
    "eroded"
   ]
  },
  {
   "cell_type": "markdown",
   "metadata": {
    "colab_type": "text",
    "id": "uAhwASZUEKsD"
   },
   "source": [
    "### 2. Convex_hull\n",
    "\n",
    "**object.convex_hull**:\n",
    "\n",
    "Returns a representation of the smallest convex Polygon containing all the points in the object unless the number of points in the object is less than three. For two points, the convex hull collapses to a LineString; for 1, a Point."
   ]
  },
  {
   "cell_type": "code",
   "execution_count": 39,
   "metadata": {
    "colab": {
     "base_uri": "https://localhost:8080/",
     "height": 121
    },
    "colab_type": "code",
    "id": "aOjtFkXcD_Rq",
    "outputId": "b3d78467-9c9d-4a8b-b154-07e861d50ac7"
   },
   "outputs": [
    {
     "data": {
      "image/svg+xml": [
       "<svg xmlns=\"http://www.w3.org/2000/svg\" xmlns:xlink=\"http://www.w3.org/1999/xlink\" width=\"100.0\" height=\"100.0\" viewBox=\"-1.0 -1.0 2.0 2.0\" preserveAspectRatio=\"xMinYMin meet\"><g transform=\"matrix(1,0,0,-1,0,0.0)\"><circle cx=\"0.0\" cy=\"0.0\" r=\"0.06\" stroke=\"#555555\" stroke-width=\"0.02\" fill=\"#66cc99\" opacity=\"0.6\" /></g></svg>"
      ],
      "text/plain": [
       "<shapely.geometry.point.Point at 0x7ff760c1cdf0>"
      ]
     },
     "execution_count": 39,
     "metadata": {},
     "output_type": "execute_result"
    }
   ],
   "source": [
    "c = Point(0, 0).convex_hull\n",
    "\n",
    "c\n"
   ]
  },
  {
   "cell_type": "code",
   "execution_count": 40,
   "metadata": {
    "colab": {
     "base_uri": "https://localhost:8080/",
     "height": 121
    },
    "colab_type": "code",
    "id": "C97HZWYrbGIW",
    "outputId": "ea32b214-d440-47d8-ea46-c170bbd0ab53"
   },
   "outputs": [
    {
     "data": {
      "image/svg+xml": [
       "<svg xmlns=\"http://www.w3.org/2000/svg\" xmlns:xlink=\"http://www.w3.org/1999/xlink\" width=\"100.0\" height=\"100.0\" viewBox=\"-0.04 -0.04 1.08 1.08\" preserveAspectRatio=\"xMinYMin meet\"><g transform=\"matrix(1,0,0,-1,0,1.0)\"><polyline fill=\"none\" stroke=\"#66cc99\" stroke-width=\"0.0216\" points=\"0.0,0.0 1.0,1.0\" opacity=\"0.8\" /></g></svg>"
      ],
      "text/plain": [
       "<shapely.geometry.linestring.LineString at 0x7ff770cc32e0>"
      ]
     },
     "execution_count": 40,
     "metadata": {},
     "output_type": "execute_result"
    }
   ],
   "source": [
    "from shapely.geometry import MultiPoint\n",
    "\n",
    "d = MultiPoint([(0, 0), (1, 1)]).convex_hull\n",
    "\n",
    "d"
   ]
  },
  {
   "cell_type": "code",
   "execution_count": 41,
   "metadata": {
    "colab": {
     "base_uri": "https://localhost:8080/",
     "height": 121
    },
    "colab_type": "code",
    "id": "ZW-6GxftbMVz",
    "outputId": "0aa3dc64-4af5-4e54-eabd-d42b4a6bf010"
   },
   "outputs": [
    {
     "data": {
      "image/svg+xml": [
       "<svg xmlns=\"http://www.w3.org/2000/svg\" xmlns:xlink=\"http://www.w3.org/1999/xlink\" width=\"100.0\" height=\"100.0\" viewBox=\"-0.08 -1.08 1.1600000000000001 2.16\" preserveAspectRatio=\"xMinYMin meet\"><g transform=\"matrix(1,0,0,-1,0,0.0)\"><path fill-rule=\"evenodd\" fill=\"#66cc99\" stroke=\"#555555\" stroke-width=\"0.0432\" opacity=\"0.6\" d=\"M 1.0,-1.0 L 0.0,0.0 L 1.0,1.0 L 1.0,-1.0 z\" /></g></svg>"
      ],
      "text/plain": [
       "<shapely.geometry.polygon.Polygon at 0x7ff76067e310>"
      ]
     },
     "execution_count": 41,
     "metadata": {},
     "output_type": "execute_result"
    }
   ],
   "source": [
    "e = MultiPoint([(0, 0), (1, 1), (1, -1)]).convex_hull\n",
    "\n",
    "e"
   ]
  },
  {
   "cell_type": "code",
   "execution_count": null,
   "metadata": {
    "colab": {},
    "colab_type": "code",
    "id": "7oQZw3FKbcN7"
   },
   "outputs": [],
   "source": []
  },
  {
   "cell_type": "markdown",
   "metadata": {
    "colab_type": "text",
    "id": "5TwP5_adbhlk"
   },
   "source": [
    "### 3. Envelop\n",
    "\n",
    "\n",
    "**object.envelope:**:\n",
    "\n",
    "Returns a representation of the point or smallest rectangular polygon (with sides parallel to the coordinate axes) that contains the object."
   ]
  },
  {
   "cell_type": "code",
   "execution_count": 42,
   "metadata": {
    "colab": {
     "base_uri": "https://localhost:8080/",
     "height": 121
    },
    "colab_type": "code",
    "id": "lwGOMj0jbnHC",
    "outputId": "35511370-45da-4c41-8bcc-d4d0c2eeae38"
   },
   "outputs": [
    {
     "data": {
      "image/svg+xml": [
       "<svg xmlns=\"http://www.w3.org/2000/svg\" xmlns:xlink=\"http://www.w3.org/1999/xlink\" width=\"100.0\" height=\"100.0\" viewBox=\"-1.0 -1.0 2.0 2.0\" preserveAspectRatio=\"xMinYMin meet\"><g transform=\"matrix(1,0,0,-1,0,0.0)\"><circle cx=\"0.0\" cy=\"0.0\" r=\"0.06\" stroke=\"#555555\" stroke-width=\"0.02\" fill=\"#66cc99\" opacity=\"0.6\" /></g></svg>"
      ],
      "text/plain": [
       "<shapely.geometry.point.Point at 0x7ff770cc3c40>"
      ]
     },
     "execution_count": 42,
     "metadata": {},
     "output_type": "execute_result"
    }
   ],
   "source": [
    "Point(0, 0).envelope"
   ]
  },
  {
   "cell_type": "code",
   "execution_count": 43,
   "metadata": {
    "colab": {
     "base_uri": "https://localhost:8080/",
     "height": 121
    },
    "colab_type": "code",
    "id": "4CC1gp3_bpy7",
    "outputId": "60172d40-5a8b-45fa-b0d5-c367f2995e47"
   },
   "outputs": [
    {
     "data": {
      "image/svg+xml": [
       "<svg xmlns=\"http://www.w3.org/2000/svg\" xmlns:xlink=\"http://www.w3.org/1999/xlink\" width=\"100.0\" height=\"100.0\" viewBox=\"-0.04 -0.04 1.08 1.08\" preserveAspectRatio=\"xMinYMin meet\"><g transform=\"matrix(1,0,0,-1,0,1.0)\"><path fill-rule=\"evenodd\" fill=\"#66cc99\" stroke=\"#555555\" stroke-width=\"0.0216\" opacity=\"0.6\" d=\"M 0.0,0.0 L 1.0,0.0 L 1.0,1.0 L 0.0,1.0 L 0.0,0.0 z\" /></g></svg>"
      ],
      "text/plain": [
       "<shapely.geometry.polygon.Polygon at 0x7ff760666ee0>"
      ]
     },
     "execution_count": 43,
     "metadata": {},
     "output_type": "execute_result"
    }
   ],
   "source": [
    "MultiPoint([(0, 0), (1, 1)]).envelope"
   ]
  },
  {
   "cell_type": "code",
   "execution_count": null,
   "metadata": {
    "colab": {},
    "colab_type": "code",
    "id": "kSKKjrVubrRi"
   },
   "outputs": [],
   "source": []
  },
  {
   "cell_type": "markdown",
   "metadata": {
    "colab_type": "text",
    "id": "8jEUQp6FbyNS"
   },
   "source": [
    "### 4. Minimum rotated rectangle\n",
    "\n",
    "\n",
    "**object.minimum_rotated_rectangle** :\n",
    "\n",
    "Returns the general minimum bounding rectangle that contains the object. Unlike envelope this rectangle is not constrained to be parallel to the coordinate axes. If the convex hull of the object is a degenerate (line or point) this degenerate is returned."
   ]
  },
  {
   "cell_type": "code",
   "execution_count": 44,
   "metadata": {
    "colab": {
     "base_uri": "https://localhost:8080/",
     "height": 121
    },
    "colab_type": "code",
    "id": "K7PGKN57b6Ux",
    "outputId": "14f323fc-8075-40a1-f319-202aaba80a63"
   },
   "outputs": [
    {
     "data": {
      "image/svg+xml": [
       "<svg xmlns=\"http://www.w3.org/2000/svg\" xmlns:xlink=\"http://www.w3.org/1999/xlink\" width=\"100.0\" height=\"100.0\" viewBox=\"-0.26352941176470585 -0.08705882352941176 2.3505882352941176 1.3800000000000001\" preserveAspectRatio=\"xMinYMin meet\"><g transform=\"matrix(1,0,0,-1,0,1.2058823529411764)\"><path fill-rule=\"evenodd\" fill=\"#66cc99\" stroke=\"#555555\" stroke-width=\"0.04701176470588235\" opacity=\"0.6\" d=\"M 1.8235294117647058,1.2058823529411764 L -0.1764705882352941,0.7058823529411764 L 0.0,0.0 L 2.0,0.5 L 1.8235294117647058,1.2058823529411764 z\" /></g></svg>"
      ],
      "text/plain": [
       "<shapely.geometry.polygon.Polygon at 0x7ff770cc35e0>"
      ]
     },
     "execution_count": 44,
     "metadata": {},
     "output_type": "execute_result"
    }
   ],
   "source": [
    "MultiPoint([(0,0),(1,1),(2,0.5)]).minimum_rotated_rectangle"
   ]
  },
  {
   "cell_type": "code",
   "execution_count": null,
   "metadata": {
    "colab": {},
    "colab_type": "code",
    "id": "rWFEY7m2b87T"
   },
   "outputs": [],
   "source": []
  },
  {
   "cell_type": "markdown",
   "metadata": {
    "colab_type": "text",
    "id": "XlTBcUB7cCR2"
   },
   "source": [
    "### 5. Simplify\n",
    "\n",
    "**object.simplify(tolerance, preserve_topology=True)**\n",
    "\n",
    "Returns a simplified representation of the geometric object.\n",
    "\n",
    "All points in the simplified object will be within the tolerance distance of the original geometry. By default a slower algorithm is used that preserves topology. If preserve topology is set to False the much quicker Douglas-Peucker algorithm is used."
   ]
  },
  {
   "cell_type": "code",
   "execution_count": 45,
   "metadata": {
    "colab": {
     "base_uri": "https://localhost:8080/",
     "height": 85
    },
    "colab_type": "code",
    "id": "2z485BDbcHsN",
    "outputId": "5be7d0a4-8199-4b76-94bb-4af27d3003d4"
   },
   "outputs": [
    {
     "name": "stdout",
     "output_type": "stream",
     "text": [
      "x's area is:  3.13654849054594\n",
      "total number of points along x boundary:  65\n",
      "area after simplify the polygon:  3.061467458920719\n",
      "total number of points along the simplified boundary:  17\n"
     ]
    }
   ],
   "source": [
    "p = Point(0.0, 0.0)\n",
    "\n",
    "x = p.buffer(1.0)\n",
    "\n",
    "print(\"x's area is: \", x.area)\n",
    "\n",
    "print(\"total number of points along x boundary: \", len(x.exterior.coords))\n",
    "\n",
    "s = x.simplify(0.05, preserve_topology=False)\n",
    "\n",
    "print(\"area after simplify the polygon: \", s.area)\n",
    "\n",
    "print(\"total number of points along the simplified boundary: \", len(s.exterior.coords))\n",
    "\n",
    "# you can see from the below results, the change of area is small after the simplification\n",
    "# but total number of points has reduced from 66 to 17, making the polygon representation much simpler\n"
   ]
  },
  {
   "cell_type": "code",
   "execution_count": null,
   "metadata": {
    "colab": {},
    "colab_type": "code",
    "id": "m0sB6t6DcmIQ"
   },
   "outputs": [],
   "source": []
  },
  {
   "cell_type": "code",
   "execution_count": null,
   "metadata": {},
   "outputs": [],
   "source": []
  }
 ],
 "metadata": {
  "colab": {
   "collapsed_sections": [],
   "include_colab_link": true,
   "name": "03_Module3b_shapely_spatial_relationship.ipynb",
   "provenance": [],
   "toc_visible": true
  },
  "kernelspec": {
   "display_name": "Python 3 (ipykernel)",
   "language": "python",
   "name": "python3"
  },
  "language_info": {
   "codemirror_mode": {
    "name": "ipython",
    "version": 3
   },
   "file_extension": ".py",
   "mimetype": "text/x-python",
   "name": "python",
   "nbconvert_exporter": "python",
   "pygments_lexer": "ipython3",
   "version": "3.9.13"
  },
  "vscode": {
   "interpreter": {
    "hash": "b0fa6594d8f4cbf19f97940f81e996739fb7646882a419484c72d19e05852a7e"
   }
  }
 },
 "nbformat": 4,
 "nbformat_minor": 1
}
